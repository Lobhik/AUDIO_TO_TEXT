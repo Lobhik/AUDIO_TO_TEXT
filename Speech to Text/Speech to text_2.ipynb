{
 "cells": [
  {
   "cell_type": "code",
   "execution_count": 1,
   "id": "cf19e3fd",
   "metadata": {},
   "outputs": [],
   "source": [
    "#pip install SpeechRecognition\n",
    "#pip install moviepy\n",
    "\n",
    "import speech_recognition as sr \n",
    "import moviepy.editor as mp\n",
    "from moviepy.video.io.ffmpeg_tools import ffmpeg_extract_subclip\n",
    "from moviepy.editor import *\n",
    "import datetime"
   ]
  },
  {
   "cell_type": "code",
   "execution_count": 2,
   "id": "d7a9654e",
   "metadata": {},
   "outputs": [],
   "source": [
    "# Python Program to Convert seconds\n",
    "# into hours, minutes and seconds \n",
    "def convert(n):\n",
    "    return str(datetime.timedelta(seconds = n))\n",
    "\n",
    "# Driver program\n",
    "#n = 70\n",
    "#print(convert(n))"
   ]
  },
  {
   "cell_type": "code",
   "execution_count": 3,
   "id": "b3a1d507",
   "metadata": {},
   "outputs": [],
   "source": [
    "#opening video file \n",
    "file = VideoFileClip(\"hindi speech.mp4\")\n",
    "#getting duration of the video\n",
    "length = file.duration\n",
    "#converting float data type to integer\n",
    "length = int(length)\n"
   ]
  },
  {
   "cell_type": "markdown",
   "id": "fee2d5b9",
   "metadata": {},
   "source": [
    "### converting video file into small chunks"
   ]
  },
  {
   "cell_type": "code",
   "execution_count": 4,
   "id": "355a215c",
   "metadata": {},
   "outputs": [
    {
     "name": "stdout",
     "output_type": "stream",
     "text": [
      "The video is 144 seconds\n",
      "[0, 10, 20, 30, 40, 50, 60, 70, 80, 90, 100, 110, 120, 130, 140]\n"
     ]
    }
   ],
   "source": [
    "\n",
    "### 4: Cut video file into chunks of 1 minute and convert each chunk into text format\n",
    "\n",
    "\n",
    "# the video is 2 minutes long\n",
    "#num_seconds_video= 2*60\n",
    "num_seconds_video= length\n",
    "print(\"The video is {} seconds\".format(num_seconds_video))\n",
    "l=list(range(0,num_seconds_video+1,10))\n",
    "print(l)\n"
   ]
  },
  {
   "cell_type": "code",
   "execution_count": 6,
   "id": "e1ba7b85",
   "metadata": {
    "scrolled": true
   },
   "outputs": [
    {
     "name": "stdout",
     "output_type": "stream",
     "text": [
      "Moviepy - Running:\n",
      ">>> \"+ \" \".join(cmd)\n",
      "Moviepy - Command successful\n",
      "MoviePy - Writing audio in convertedconverted1.wav\n"
     ]
    },
    {
     "name": "stderr",
     "output_type": "stream",
     "text": [
      "                                                                                                                       \r"
     ]
    },
    {
     "name": "stdout",
     "output_type": "stream",
     "text": [
      "MoviePy - Done.\n",
      "Moviepy - Running:\n",
      ">>> \"+ \" \".join(cmd)\n",
      "Moviepy - Command successful\n",
      "MoviePy - Writing audio in convertedconverted2.wav\n"
     ]
    },
    {
     "name": "stderr",
     "output_type": "stream",
     "text": [
      "                                                                                                                       \r"
     ]
    },
    {
     "name": "stdout",
     "output_type": "stream",
     "text": [
      "MoviePy - Done.\n",
      "Moviepy - Running:\n",
      ">>> \"+ \" \".join(cmd)\n",
      "Moviepy - Command successful\n",
      "MoviePy - Writing audio in convertedconverted3.wav\n"
     ]
    },
    {
     "name": "stderr",
     "output_type": "stream",
     "text": [
      "                                                                                                                       \r"
     ]
    },
    {
     "name": "stdout",
     "output_type": "stream",
     "text": [
      "MoviePy - Done.\n",
      "Moviepy - Running:\n",
      ">>> \"+ \" \".join(cmd)\n",
      "Moviepy - Command successful\n",
      "MoviePy - Writing audio in convertedconverted4.wav\n"
     ]
    },
    {
     "name": "stderr",
     "output_type": "stream",
     "text": [
      "                                                                                                                       \r"
     ]
    },
    {
     "name": "stdout",
     "output_type": "stream",
     "text": [
      "MoviePy - Done.\n",
      "Moviepy - Running:\n",
      ">>> \"+ \" \".join(cmd)\n",
      "Moviepy - Command successful\n",
      "MoviePy - Writing audio in convertedconverted5.wav\n"
     ]
    },
    {
     "name": "stderr",
     "output_type": "stream",
     "text": [
      "                                                                                                                       \r"
     ]
    },
    {
     "name": "stdout",
     "output_type": "stream",
     "text": [
      "MoviePy - Done.\n",
      "Moviepy - Running:\n",
      ">>> \"+ \" \".join(cmd)\n",
      "Moviepy - Command successful\n",
      "MoviePy - Writing audio in convertedconverted6.wav\n"
     ]
    },
    {
     "name": "stderr",
     "output_type": "stream",
     "text": [
      "                                                                                                                       \r"
     ]
    },
    {
     "name": "stdout",
     "output_type": "stream",
     "text": [
      "MoviePy - Done.\n",
      "Moviepy - Running:\n",
      ">>> \"+ \" \".join(cmd)\n",
      "Moviepy - Command successful\n",
      "MoviePy - Writing audio in convertedconverted7.wav\n"
     ]
    },
    {
     "name": "stderr",
     "output_type": "stream",
     "text": [
      "                                                                                                                       \r"
     ]
    },
    {
     "name": "stdout",
     "output_type": "stream",
     "text": [
      "MoviePy - Done.\n",
      "Moviepy - Running:\n",
      ">>> \"+ \" \".join(cmd)\n",
      "Moviepy - Command successful\n",
      "MoviePy - Writing audio in convertedconverted8.wav\n"
     ]
    },
    {
     "name": "stderr",
     "output_type": "stream",
     "text": [
      "                                                                                                                       \r"
     ]
    },
    {
     "name": "stdout",
     "output_type": "stream",
     "text": [
      "MoviePy - Done.\n",
      "Moviepy - Running:\n",
      ">>> \"+ \" \".join(cmd)\n",
      "Moviepy - Command successful\n",
      "MoviePy - Writing audio in convertedconverted9.wav\n"
     ]
    },
    {
     "name": "stderr",
     "output_type": "stream",
     "text": [
      "                                                                                                                       \r"
     ]
    },
    {
     "name": "stdout",
     "output_type": "stream",
     "text": [
      "MoviePy - Done.\n",
      "Moviepy - Running:\n",
      ">>> \"+ \" \".join(cmd)\n",
      "Moviepy - Command successful\n",
      "MoviePy - Writing audio in convertedconverted10.wav\n"
     ]
    },
    {
     "name": "stderr",
     "output_type": "stream",
     "text": [
      "                                                                                                                       \r"
     ]
    },
    {
     "name": "stdout",
     "output_type": "stream",
     "text": [
      "MoviePy - Done.\n",
      "Moviepy - Running:\n",
      ">>> \"+ \" \".join(cmd)\n",
      "Moviepy - Command successful\n",
      "MoviePy - Writing audio in convertedconverted11.wav\n"
     ]
    },
    {
     "name": "stderr",
     "output_type": "stream",
     "text": [
      "                                                                                                                       \r"
     ]
    },
    {
     "name": "stdout",
     "output_type": "stream",
     "text": [
      "MoviePy - Done.\n",
      "Moviepy - Running:\n",
      ">>> \"+ \" \".join(cmd)\n",
      "Moviepy - Command successful\n",
      "MoviePy - Writing audio in convertedconverted12.wav\n"
     ]
    },
    {
     "name": "stderr",
     "output_type": "stream",
     "text": [
      "                                                                                                                       \r"
     ]
    },
    {
     "name": "stdout",
     "output_type": "stream",
     "text": [
      "MoviePy - Done.\n",
      "Moviepy - Running:\n",
      ">>> \"+ \" \".join(cmd)\n",
      "Moviepy - Command successful\n",
      "MoviePy - Writing audio in convertedconverted13.wav\n"
     ]
    },
    {
     "name": "stderr",
     "output_type": "stream",
     "text": [
      "                                                                                                                       \r"
     ]
    },
    {
     "name": "stdout",
     "output_type": "stream",
     "text": [
      "MoviePy - Done.\n",
      "Moviepy - Running:\n",
      ">>> \"+ \" \".join(cmd)\n",
      "Moviepy - Command successful\n",
      "MoviePy - Writing audio in convertedconverted14.wav\n"
     ]
    },
    {
     "name": "stderr",
     "output_type": "stream",
     "text": [
      "                                                                                                                       \r"
     ]
    },
    {
     "name": "stdout",
     "output_type": "stream",
     "text": [
      "MoviePy - Done.\n"
     ]
    }
   ],
   "source": [
    "diz={}\n",
    "for i in range(len(l)-1):\n",
    "    ffmpeg_extract_subclip(\"hindi speech.mp4\", l[i]-2*(l[i]!=0), l[i+1], targetname=\"chunkscut{}.mp4\".format(i+1))\n",
    "    clip = mp.VideoFileClip(r\"chunkscut{}.mp4\".format(i+1))\n",
    "    clip.audio.write_audiofile(r\"convertedconverted{}.wav\".format(i+1))\n",
    "    r = sr.Recognizer()\n",
    "    audio = sr.AudioFile(\"convertedconverted{}.wav\".format(i+1))\n",
    "    with audio as source:\n",
    "      r.adjust_for_ambient_noise(source)  \n",
    "      audio_file = r.record(source)\n",
    "    try:\n",
    "        result = r.recognize_google(audio_file, language = 'hi-IN') #for marathi use (language = mr-IN and hi-IN)\n",
    "    except sr.UnknownValueError:\n",
    "        diz['chunk{}'.format(i+1)]=result\n",
    "    try:\n",
    "        result = convert(l[i+1])+ \"  <==========>  \" +convert(l[i+2]),\"\\n\"+ str(result)\n",
    "        diz['chunk{}'.format(i+1)]=str(result)\n",
    "    except IndexError:\n",
    "        diz['chunk{}'.format(i+1)]=result\n"
   ]
  },
  {
   "cell_type": "markdown",
   "id": "85ccc075",
   "metadata": {},
   "source": [
    "# Writing the file"
   ]
  },
  {
   "cell_type": "code",
   "execution_count": 7,
   "id": "a6a8b27f",
   "metadata": {},
   "outputs": [
    {
     "name": "stdout",
     "output_type": "stream",
     "text": [
      "ready!\n"
     ]
    }
   ],
   "source": [
    "### 5: Export results into a Text document\n",
    "\n",
    "l_chunks=[diz['chunk{}'.format(i+1)] for i in range(len(diz))]\n",
    "text='\\n'.join(l_chunks)\n",
    "\n",
    "with open('recognized_hi_1.txt',mode ='w', encoding = \"utf-8\") as file: \n",
    "   file.write(\"Recognized Speech:\") \n",
    "   file.write(\"\\n\") \n",
    "   file.write(text) \n",
    "   print(\"ready!\")"
   ]
  },
  {
   "cell_type": "code",
   "execution_count": 8,
   "id": "c1fddbac",
   "metadata": {},
   "outputs": [
    {
     "data": {
      "text/plain": [
       "'(\\'0:00:10  <==========>  0:00:20\\', \\'\\\\nअंग्रेजी भाषा का मत करो इतना कोई हमारी राष्ट्रभाषा\\')\\n(\\'0:00:20  <==========>  0:00:30\\', \\'\\\\n2 बराबर का सम्मान आप सभी को हिंदी दिवस की हार्दिक शुभकामनाएं\\')\\n(\\'0:00:30  <==========>  0:00:40\\', \\'\\\\nआप इसे अपने विद्यालय की प्रतियोगिताओं में उपयोग कर सकते हैं चलिए शुरू करते हैं\\')\\n(\\'0:00:40  <==========>  0:00:50\\', \"\\\\n(\\'0:00:30  <==========>  0:00:40\\', \\'\\\\\\\\nआप इसे अपने विद्यालय की प्रतियोगिताओं में उपयोग कर सकते हैं चलिए शुरू करते हैं\\')\")\\n(\\'0:00:50  <==========>  0:01:00\\', \\'\\\\nहिंदी दिवस हर साल 14 सितंबर को मनाया जाता है हिंदी भाषा हमारी राष्ट्रीय भाषा है हिंदी दिवस दिवस\\')\\n(\\'0:01:00  <==========>  0:01:10\\', \\'\\\\nहिंदी दिवस को हर साल संघ 1959 से मनाया जाता है\\')\\n(\\'0:01:10  <==========>  0:01:20\\', \\'\\\\nहिंदी दिवस मनाने का कारण है कि हिंदी भाषा के प्रति लोगों को जागरूक किया जाता है हिंदी मंदिर मंदिर मंदिर मंदिर मंदिर मंदिर मंदिर मंदिर मंदिर\\')\\n(\\'0:01:20  <==========>  0:01:30\\', \\'\\\\nहिंदी दिवस कब मनाया जाता है भारत के राष्ट्रपति\\')\\n(\\'0:01:30  <==========>  0:01:40\\', \\'\\\\nविद्यालय कॉलेज\\')\\n(\\'0:01:40  <==========>  0:01:50\\', \\'\\\\nकॉमेडी हिंदी भाषा के प्रतियोगिताएं आयोजित किए जाते हैं\\')\\n(\\'0:01:50  <==========>  0:02:00\\', \\'\\\\nप्रतियोगिताएं आयोजित की जाती है हमें हिंदी भाषा पर गर्व होना चाहिए क्योंकि\\')\\n(\\'0:02:00  <==========>  0:02:10\\', \\'\\\\nपूरे विश्व में सबसे ज्यादा बोली जाने वाली भाषाओं में से हिंदी है धन्यवाद आप सभी को यह दीजिए दीजिए दीजिए\\')\\n(\\'0:02:10  <==========>  0:02:20\\', \\'\\\\nयह वीडियो कैसा लगा नीचे कमेंट कीजिएगा हमारे वीडियो को लाइक और शेयर कीजिएगा और हमारे\\')\\nहमारी तरफ से आप सभी को हिंदी दिवस की बहुत-बहुत शुभकामनाएं चलिए मिलती हुए वीडियो में'"
      ]
     },
     "execution_count": 8,
     "metadata": {},
     "output_type": "execute_result"
    }
   ],
   "source": [
    "text"
   ]
  },
  {
   "cell_type": "markdown",
   "id": "d84b8dbc",
   "metadata": {},
   "source": [
    "## END OF THE PROGRAM"
   ]
  },
  {
   "cell_type": "code",
   "execution_count": null,
   "id": "695a2d62",
   "metadata": {},
   "outputs": [],
   "source": []
  },
  {
   "cell_type": "code",
   "execution_count": null,
   "id": "e90eacbf",
   "metadata": {},
   "outputs": [],
   "source": []
  },
  {
   "cell_type": "code",
   "execution_count": 14,
   "id": "a9fee60d",
   "metadata": {},
   "outputs": [
    {
     "data": {
      "text/plain": [
       "tuple"
      ]
     },
     "execution_count": 14,
     "metadata": {},
     "output_type": "execute_result"
    }
   ],
   "source": [
    "j = [0,10,20,30,40,50,60,70,80]\n",
    "ile = convert(j[1+i])+ \"  <==========>  \" +convert(j[1+i]),\"\\n\"+ result\n",
    "type(ile)"
   ]
  },
  {
   "cell_type": "code",
   "execution_count": 13,
   "id": "0242ced4",
   "metadata": {},
   "outputs": [
    {
     "name": "stdout",
     "output_type": "stream",
     "text": [
      "0:01:10\n"
     ]
    }
   ],
   "source": [
    "# Python Program to Convert seconds\n",
    "# into hours, minutes and seconds\n",
    "import datetime\n",
    " \n",
    "def convert(n):\n",
    "    return str(datetime.timedelta(seconds = n))\n",
    "\n",
    "# Driver program\n",
    "n = 70\n",
    "print(convert(n))"
   ]
  },
  {
   "cell_type": "code",
   "execution_count": 11,
   "id": "84fc5107",
   "metadata": {},
   "outputs": [
    {
     "data": {
      "text/plain": [
       "'00.00.40\\nव समानतेची वागणूक दिली दुर्दैवाने तीन एप्रिल 1980 रोजी शिवाजीराजांनी अखेरचा श्वास घेतला शिवाजी महाराजी महाराज00.00.50'"
      ]
     },
     "execution_count": 11,
     "metadata": {},
     "output_type": "execute_result"
    }
   ],
   "source": [
    "\"00.00.40\\n\"+result+\"00.00.50\""
   ]
  },
  {
   "cell_type": "code",
   "execution_count": 15,
   "id": "7e861aec",
   "metadata": {
    "scrolled": true
   },
   "outputs": [
    {
     "data": {
      "text/plain": [
       "{'chunk1': \"('0:00:10  <==========>  0:00:20', '\\\\nशिवाजीमहाराज शिवाजीमहाराज हे मराठा साम्राज्याचे संस्थापक व आदर्श राजा होते')\",\n",
       " 'chunk2': \"('0:00:20  <==========>  0:00:30', '\\\\nत्यांचा जन्म 19 फेब्रुवारी सोळाशे 30 रोजी पुणे जिल्ह्यातील शिवनेरी किल्ल्यावर झाला त्यांच्या वडिलांचे वडिलांचे वडिलांचे वडिलांचे वडिलांचे')\",\n",
       " 'chunk3': \"('0:00:30  <==========>  0:00:40', '\\\\nत्यांच्या वडिलांचे नाव शहाजीराजे भोसले व आईचे नाव जिजाबाई हे होते शिवरायांनी वयाच्या अवघ्या पंधराव्या वर्षी कशी कशी कशी कशी')\",\n",
       " 'chunk4': \"('0:00:40  <==========>  0:00:50', '\\\\nदहाव्या वर्षी स्वराज्य स्थापनेची प्रतिज्ञा कीं त्यांनी गनिमी कावा तंत्राचा वापर करून अनेक गड-किल्ले जिंकले')\",\n",
       " 'chunk5': \"('0:00:50  <==========>  0:01:00', '\\\\nत्यांनी शक्तीपेक्षा युक्ती चा वापर करून अनेक मोठमोठ्या शत्रूंचा पराभव केला सहा जून सोळाशे 74')\",\n",
       " 'chunk6': \"('0:01:00  <==========>  0:01:10', '\\\\n574 रोजी शिवाजी महाराजांचा राज्यभिषेक झाला त्यांनी आपल्या स्वराज्यात सर्वांना समान विज्ञान व')\",\n",
       " 'chunk7': 'व समानतेची वागणूक दिली दुर्दैवाने तीन एप्रिल 1980 रोजी शिवाजीराजांनी अखेरचा श्वास घेतला शिवाजी महाराजी महाराज'}"
      ]
     },
     "execution_count": 15,
     "metadata": {},
     "output_type": "execute_result"
    }
   ],
   "source": [
    "diz"
   ]
  },
  {
   "cell_type": "code",
   "execution_count": 16,
   "id": "0caedbff",
   "metadata": {},
   "outputs": [
    {
     "name": "stdout",
     "output_type": "stream",
     "text": [
      "ready!\n"
     ]
    }
   ],
   "source": []
  },
  {
   "cell_type": "code",
   "execution_count": 17,
   "id": "541a8c0b",
   "metadata": {},
   "outputs": [
    {
     "data": {
      "text/plain": [
       "\"('0:00:10  <==========>  0:00:20', '\\\\nशिवाजीमहाराज शिवाजीमहाराज हे मराठा साम्राज्याचे संस्थापक व आदर्श राजा होते')\\n('0:00:20  <==========>  0:00:30', '\\\\nत्यांचा जन्म 19 फेब्रुवारी सोळाशे 30 रोजी पुणे जिल्ह्यातील शिवनेरी किल्ल्यावर झाला त्यांच्या वडिलांचे वडिलांचे वडिलांचे वडिलांचे वडिलांचे')\\n('0:00:30  <==========>  0:00:40', '\\\\nत्यांच्या वडिलांचे नाव शहाजीराजे भोसले व आईचे नाव जिजाबाई हे होते शिवरायांनी वयाच्या अवघ्या पंधराव्या वर्षी कशी कशी कशी कशी')\\n('0:00:40  <==========>  0:00:50', '\\\\nदहाव्या वर्षी स्वराज्य स्थापनेची प्रतिज्ञा कीं त्यांनी गनिमी कावा तंत्राचा वापर करून अनेक गड-किल्ले जिंकले')\\n('0:00:50  <==========>  0:01:00', '\\\\nत्यांनी शक्तीपेक्षा युक्ती चा वापर करून अनेक मोठमोठ्या शत्रूंचा पराभव केला सहा जून सोळाशे 74')\\n('0:01:00  <==========>  0:01:10', '\\\\n574 रोजी शिवाजी महाराजांचा राज्यभिषेक झाला त्यांनी आपल्या स्वराज्यात सर्वांना समान विज्ञान व')\\nव समानतेची वागणूक दिली दुर्दैवाने तीन एप्रिल 1980 रोजी शिवाजीराजांनी अखेरचा श्वास घेतला शिवाजी महाराजी महाराज\""
      ]
     },
     "execution_count": 17,
     "metadata": {},
     "output_type": "execute_result"
    }
   ],
   "source": [
    "text"
   ]
  },
  {
   "cell_type": "code",
   "execution_count": null,
   "id": "c0f1e75c",
   "metadata": {},
   "outputs": [],
   "source": []
  },
  {
   "cell_type": "code",
   "execution_count": null,
   "id": "9be8de92",
   "metadata": {},
   "outputs": [],
   "source": [
    "'''\n",
    "\n",
    "try:\n",
    "    r.recognize_google(audio_file)\n",
    "except sr.UnknownValueError:\n",
    "    pass\n",
    "print(\"1\")\n",
    "diz\n",
    "'''"
   ]
  },
  {
   "cell_type": "code",
   "execution_count": 5,
   "id": "1136b2fa",
   "metadata": {
    "scrolled": true
   },
   "outputs": [],
   "source": [
    "'''AUDIO_FILE = path.join(path.dirname(path.realpath(__file__)), \"english.wav\")'''\n",
    "# AUDIO_FILE = path.join(path.dirname(path.realpath(__file__)), \"french.aiff\")\n",
    "# AUDIO_FILE = path.join(path.dirname(path.realpath(__file__)), \"chinese.flac\")\n",
    "\n",
    "# use the audio file as the audio source\n",
    "AUDIO_FILE = \"Our_Universal_Journey_Mini.wav\"\n",
    "r = sr.Recognizer()\n",
    "with sr.AudioFile(AUDIO_FILE) as source:\n",
    "    audio = r.record(source)  # read the entire audio file"
   ]
  },
  {
   "cell_type": "code",
   "execution_count": null,
   "id": "18af47ca",
   "metadata": {},
   "outputs": [],
   "source": [
    "# recognize speech using Sphinx\n",
    "try:\n",
    "    print(\"Sphinx thinks you said \" + r.recognize_sphinx(audio))\n",
    "except sr.UnknownValueError:\n",
    "    print(\"Sphinx could not understand audio\")\n",
    "except sr.RequestError as e:\n",
    "    print(\"Sphinx error; {0}\".format(e))\n"
   ]
  },
  {
   "cell_type": "markdown",
   "id": "4903f77f",
   "metadata": {},
   "source": [
    "Reference code "
   ]
  },
  {
   "cell_type": "code",
   "execution_count": 4,
   "id": "635a0572",
   "metadata": {},
   "outputs": [
    {
     "name": "stdout",
     "output_type": "stream",
     "text": [
      "Text :  हेलो फ्रेंड्स एंड वेलकम बैक टू अंग्रेजी भाषा का मत करो इतना हमारी राष्ट्रभाषा को बराबर का सम्मान आप सभी को हिंदी दिवस की हार्दिक शुभकामनाएं\n"
     ]
    }
   ],
   "source": [
    "file = \"hindi speech.wav\"#\"Our_Universal_Journey_Mini.wav\"#\"hindi.wav\"Our_Universal_Journey_Mini- (mp3cut.net)\n",
    "r = sr.Recognizer()\n",
    "with sr.AudioFile(file) as source:\n",
    "    #audio = r.listen(source)\n",
    "    audio = r.record(source, duration = 120)  # read the entire audio file\n",
    "    text = r.recognize_google(audio, language='hi-IN')\n",
    "    print(\"Text :  \" + text)\n"
   ]
  },
  {
   "cell_type": "code",
   "execution_count": null,
   "id": "f585bd49",
   "metadata": {},
   "outputs": [],
   "source": []
  }
 ],
 "metadata": {
  "kernelspec": {
   "display_name": "Python 3 (ipykernel)",
   "language": "python",
   "name": "python3"
  },
  "language_info": {
   "codemirror_mode": {
    "name": "ipython",
    "version": 3
   },
   "file_extension": ".py",
   "mimetype": "text/x-python",
   "name": "python",
   "nbconvert_exporter": "python",
   "pygments_lexer": "ipython3",
   "version": "3.9.12"
  }
 },
 "nbformat": 4,
 "nbformat_minor": 5
}
