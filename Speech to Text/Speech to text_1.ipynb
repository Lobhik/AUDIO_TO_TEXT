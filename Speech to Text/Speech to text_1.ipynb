{
 "cells": [
  {
   "cell_type": "code",
   "execution_count": null,
   "id": "3d806139",
   "metadata": {},
   "outputs": [],
   "source": []
  },
  {
   "cell_type": "code",
   "execution_count": 1,
   "id": "ed3c6444",
   "metadata": {},
   "outputs": [],
   "source": [
    "import speech_recognition as sr\n",
    "# obtain path to \"english.wav\" in the same folder as this script\n",
    "from os import path"
   ]
  },
  {
   "cell_type": "code",
   "execution_count": 5,
   "id": "1136b2fa",
   "metadata": {
    "scrolled": true
   },
   "outputs": [],
   "source": [
    "'''AUDIO_FILE = path.join(path.dirname(path.realpath(__file__)), \"english.wav\")'''\n",
    "# AUDIO_FILE = path.join(path.dirname(path.realpath(__file__)), \"french.aiff\")\n",
    "# AUDIO_FILE = path.join(path.dirname(path.realpath(__file__)), \"chinese.flac\")\n",
    "\n",
    "# use the audio file as the audio source\n",
    "AUDIO_FILE = \"Our_Universal_Journey_Mini.wav\"\n",
    "r = sr.Recognizer()\n",
    "with sr.AudioFile(AUDIO_FILE) as source:\n",
    "    audio = r.record(source)  # read the entire audio file"
   ]
  },
  {
   "cell_type": "code",
   "execution_count": null,
   "id": "18af47ca",
   "metadata": {},
   "outputs": [],
   "source": [
    "# recognize speech using Sphinx\n",
    "try:\n",
    "    print(\"Sphinx thinks you said \" + r.recognize_sphinx(audio))\n",
    "except sr.UnknownValueError:\n",
    "    print(\"Sphinx could not understand audio\")\n",
    "except sr.RequestError as e:\n",
    "    print(\"Sphinx error; {0}\".format(e))\n"
   ]
  },
  {
   "cell_type": "markdown",
   "id": "4903f77f",
   "metadata": {},
   "source": [
    "Reference code "
   ]
  },
  {
   "cell_type": "code",
   "execution_count": 4,
   "id": "635a0572",
   "metadata": {},
   "outputs": [
    {
     "name": "stdout",
     "output_type": "stream",
     "text": [
      "Text :  हेलो फ्रेंड्स एंड वेलकम बैक टू अंग्रेजी भाषा का मत करो इतना हमारी राष्ट्रभाषा को बराबर का सम्मान आप सभी को हिंदी दिवस की हार्दिक शुभकामनाएं\n"
     ]
    }
   ],
   "source": [
    "file = \"hindi speech.wav\"#\"Our_Universal_Journey_Mini.wav\"#\"hindi.wav\"Our_Universal_Journey_Mini- (mp3cut.net)\n",
    "r = sr.Recognizer()\n",
    "with sr.AudioFile(file) as source:\n",
    "    #audio = r.listen(source)\n",
    "    audio = r.record(source)  # read the entire audio file\n",
    "    text = r.recognize_google(audio, language='hi-IN')\n",
    "    print(\"Text :  \" + text)\n"
   ]
  },
  {
   "cell_type": "code",
   "execution_count": null,
   "id": "f585bd49",
   "metadata": {},
   "outputs": [],
   "source": []
  }
 ],
 "metadata": {
  "kernelspec": {
   "display_name": "Python 3 (ipykernel)",
   "language": "python",
   "name": "python3"
  },
  "language_info": {
   "codemirror_mode": {
    "name": "ipython",
    "version": 3
   },
   "file_extension": ".py",
   "mimetype": "text/x-python",
   "name": "python",
   "nbconvert_exporter": "python",
   "pygments_lexer": "ipython3",
   "version": "3.9.12"
  }
 },
 "nbformat": 4,
 "nbformat_minor": 5
}
